{
 "cells": [
  {
   "cell_type": "code",
   "execution_count": 2,
   "id": "8e49e9d7-1843-4217-867d-cb18e66afd2b",
   "metadata": {
    "tags": []
   },
   "outputs": [],
   "source": [
    "#Lesson 9: Real-World Application : Performance of main asset classes\n",
    "import yfinance as yf\n",
    "import pandas as pd\n",
    "import numpy as np\n",
    "import math as ma"
   ]
  },
  {
   "cell_type": "code",
   "execution_count": 3,
   "id": "4b5c1702-8653-42f8-8563-287eb30436f1",
   "metadata": {
    "tags": []
   },
   "outputs": [
    {
     "name": "stderr",
     "output_type": "stream",
     "text": [
      "C:\\Users\\Sean\\AppData\\Roaming\\Python\\Python311\\site-packages\\pandas_datareader\\famafrench.py:114: FutureWarning: The argument 'date_parser' is deprecated and will be removed in a future version. Please use 'date_format' instead, or read your data in as 'object' dtype and then call 'to_datetime'.\n",
      "  df = read_csv(StringIO(\"Date\" + src[start:]), **params)\n",
      "C:\\Users\\Sean\\AppData\\Roaming\\Python\\Python311\\site-packages\\pandas_datareader\\famafrench.py:114: FutureWarning: The argument 'date_parser' is deprecated and will be removed in a future version. Please use 'date_format' instead, or read your data in as 'object' dtype and then call 'to_datetime'.\n",
      "  df = read_csv(StringIO(\"Date\" + src[start:]), **params)\n"
     ]
    },
    {
     "name": "stdin",
     "output_type": "stream",
     "text": [
      "Has the risk-free rate been provided already? (Yes/No):  TSLA\n"
     ]
    },
    {
     "name": "stdout",
     "output_type": "stream",
     "text": [
      "Not a valid input! Please say 'Yes' or 'No'.\n"
     ]
    },
    {
     "name": "stdin",
     "output_type": "stream",
     "text": [
      "Has the risk-free rate been provided already? (Yes/No):  No\n"
     ]
    },
    {
     "name": "stdout",
     "output_type": "stream",
     "text": [
      "The FF3F monthly risk free rate is:   0.002681164383561644\n"
     ]
    }
   ],
   "source": [
    "#Ask Whether The Risk Free Rate is Given or If It Must Be Calculated From FF3F Data\n",
    "\n",
    "import pandas_datareader as pdr\n",
    "\n",
    "ff3f = pdr.DataReader('F-F_Research_Data_Factors', 'famafrench', '1926-12-31', '2024-12-31')[0]/100\n",
    "\n",
    "\n",
    "while True:\n",
    "    # Prompt the user and immediately handle the response\n",
    "    rf_Prompt = input(\"Has the risk-free rate been provided already? (Yes/No): \").strip().lower()\n",
    "\n",
    "    if rf_Prompt == \"yes\":\n",
    "        rf_Rate = float(input(\"Input the given risk-free rate here: \"))  # ensure input is converted to float for calculations\n",
    "        print(\"Risk Free Rate is: \", rf_Rate)\n",
    "        break\n",
    "    elif rf_Prompt == \"no\":\n",
    "        rf_Rate = ff3f['RF'].mean()  # Assuming ff3f['RF'] is already loaded and contains the relevant data\n",
    "        print(\"The FF3F monthly risk free rate is:  \", rf_Rate)\n",
    "        break\n",
    "    else:\n",
    "        print(\"Not a valid input! Please say 'Yes' or 'No'.\")\n"
   ]
  },
  {
   "cell_type": "code",
   "execution_count": 4,
   "id": "602d4b3e-1dd3-4dd4-9d35-77b420a74124",
   "metadata": {},
   "outputs": [
    {
     "name": "stdin",
     "output_type": "stream",
     "text": [
      "Enter how many stocks will be in your portfolio here:  2\n",
      "Enter the ticker for stock number 1 here:  TSLA\n",
      "Enter the ticker for stock number 2 here:  AAPL\n"
     ]
    },
    {
     "name": "stdout",
     "output_type": "stream",
     "text": [
      "Portfolio:  ['TSLA', 'AAPL']\n"
     ]
    },
    {
     "name": "stdin",
     "output_type": "stream",
     "text": [
      "Start data:  2010-01-01\n",
      "End date (Best to always get an extra months data for more accurate results:  2020-12-31\n"
     ]
    },
    {
     "name": "stderr",
     "output_type": "stream",
     "text": [
      "[*********************100%%**********************]  2 of 2 completed\n"
     ]
    }
   ],
   "source": [
    "\n",
    "size = int(input(\"Enter how many stocks will be in your portfolio here: \"))\n",
    "\n",
    "portfolio = [None] * size\n",
    "\n",
    "for i in range(size):\n",
    "    portfolio[i] = input(f\"Enter the ticker for stock number {i+1} here: \")\n",
    "    \n",
    "print(\"Portfolio: \", portfolio)\n",
    "\n",
    "start = input(\"Start data: \") #Start Date For yfinance data pull\n",
    "end = input(\"End date (Best to always get an extra months data for more accurate results: \") #End data for yfinance data pull\n",
    "\n",
    "m_data = yf.download(portfolio, start = start, end = end, interval = '1mo')['Adj Close'].dropna()\n",
    "\n",
    "\n",
    "\n",
    "m_data = m_data[portfolio]\n",
    "\n",
    "m_data = m_data.pct_change().dropna()\n",
    "\n",
    "\n",
    "\n",
    "m_data.head(5)\n",
    "\n",
    "#Estimated Returns, Standard Deviations, Risk Premium\n",
    "\n",
    "average_Data = m_data.mean()\n",
    "\n",
    "standard_Dev = m_data.std() #Gets standard deviation from return data\n",
    "\n",
    "risk_Premia = average_Data - rf_Rate\n",
    "\n",
    "\n"
   ]
  },
  {
   "cell_type": "code",
   "execution_count": 5,
   "id": "4dc5a1e9-b72f-4178-b028-b356e4e7483b",
   "metadata": {
    "tags": []
   },
   "outputs": [
    {
     "name": "stdout",
     "output_type": "stream",
     "text": [
      "Covariance Matrix: \n",
      " Ticker      TSLA      AAPL\n",
      "Ticker                    \n",
      "TSLA    0.034340  0.004309\n",
      "AAPL    0.004309  0.006215\n"
     ]
    }
   ],
   "source": [
    "#Sigma Covariance Matrix and its inverse\n",
    "\n",
    "df = pd.DataFrame(m_data) #Takes stocks returns and converts it into a df datafield\n",
    "\n",
    "cov_matrix = df.cov() #Calculates the covar matrix\n",
    "\n",
    "inverse = np.linalg.inv(cov_matrix)\n",
    "\n",
    "print(f\"Covariance Matrix: \\n\", cov_matrix)"
   ]
  },
  {
   "cell_type": "code",
   "execution_count": 6,
   "id": "bc5cec61-cc4d-4829-8266-2b6c4dd4e641",
   "metadata": {
    "tags": []
   },
   "outputs": [
    {
     "name": "stdout",
     "output_type": "stream",
     "text": [
      "The W-Tan for TSLA is 29.53%\n",
      "The W-Tan for AAPL is 70.47%\n"
     ]
    }
   ],
   "source": [
    "#W_Tangeant Weights\n",
    "numerator = np.dot(inverse, risk_Premia) #Numerator for w_tangent\n",
    "\n",
    "denominator = np.dot(np.ones(len(risk_Premia)), numerator)\n",
    "\n",
    "w_tangent = (numerator / denominator) * 100\n",
    "\n",
    "for i in range(size):\n",
    "    print(f\"The W-Tan for {portfolio[i]} is {w_tangent[i].round(2)}%\")"
   ]
  },
  {
   "cell_type": "code",
   "execution_count": 7,
   "id": "3b698093-7f9a-49fe-a925-716f67acc7c2",
   "metadata": {
    "tags": []
   },
   "outputs": [
    {
     "name": "stdout",
     "output_type": "stream",
     "text": [
      "The variance of the portfolio is: 0.0078739\n"
     ]
    }
   ],
   "source": [
    "#Finding Risk Premium and Variance of Portfolio\n",
    "w_tangent = w_tangent / 100\n",
    "\n",
    "risk_Premia = np.array(risk_Premia)\n",
    "\n",
    "#Portfolio Risk Premium\n",
    "portfolio_RP = (risk_Premia @ w_tangent)\n",
    "\n",
    "\n",
    "#Variance of Portfolio\n",
    "portfolio_variance = np.dot(w_tangent.T, np.dot(cov_matrix.values, w_tangent))\n",
    "print(f\"The variance of the portfolio is: {portfolio_variance.round(7)}\")"
   ]
  },
  {
   "cell_type": "code",
   "execution_count": 8,
   "id": "7b063707-0f2d-450c-a3a2-0453199f40e6",
   "metadata": {
    "tags": []
   },
   "outputs": [
    {
     "name": "stdin",
     "output_type": "stream",
     "text": [
      "Input the risk-aversion coefficient here:  5\n"
     ]
    },
    {
     "name": "stdout",
     "output_type": "stream",
     "text": [
      "The weighted optimal capital allocation is: 0.81964640851077\n"
     ]
    }
   ],
   "source": [
    "risk_Aversion = input(\"Input the risk-aversion coefficient here: \")\n",
    "risk_Aversion = int(risk_Aversion)\n",
    "\n",
    "w_OCA = portfolio_RP/ (portfolio_variance * risk_Aversion)\n",
    "\n",
    "print(f\"The weighted optimal capital allocation is: {w_OCA}\")"
   ]
  },
  {
   "cell_type": "code",
   "execution_count": 9,
   "id": "aeb32d6a-b41a-4969-ad0f-bdd92b5a4145",
   "metadata": {},
   "outputs": [
    {
     "name": "stdout",
     "output_type": "stream",
     "text": [
      " w_OCA tangent weight for TSLA is 24.2%\n",
      " w_OCA tangent weight for AAPL is 57.8%\n",
      "\n",
      "The risk free rate allocation: 18.035%\n"
     ]
    }
   ],
   "source": [
    "#W_oca Tangent Weights\n",
    "w_tan_weights = [None] * size\n",
    "rf_Alloc = (1 - w_OCA) * 100\n",
    "\n",
    "for i in range(size):\n",
    "    w_tan_weights[i] = w_OCA * w_tangent[i]\n",
    "    w_tan_weights[i] = w_tan_weights[i].round(3)\n",
    "    print(f\" w_OCA tangent weight for {portfolio[i]} is {w_tan_weights[i]*100}%\")\n",
    "    \n",
    "    \n",
    "print(f\"\\nThe risk free rate allocation: {rf_Alloc.round(3)}%\") #Rf-Rate Allocated (How much will we borrow)"
   ]
  },
  {
   "cell_type": "code",
   "execution_count": 10,
   "id": "ad402162-b824-4ce7-aa45-97d63310254c",
   "metadata": {
    "tags": []
   },
   "outputs": [
    {
     "name": "stdout",
     "output_type": "stream",
     "text": [
      " The Sharpe Ratio for TSLA: 0.2914132754024235\n",
      " The Sharpe Ratio for AAPL: 0.2938171092063866\n"
     ]
    },
    {
     "name": "stderr",
     "output_type": "stream",
     "text": [
      "C:\\Users\\Sean\\AppData\\Local\\Temp\\ipykernel_12896\\752195567.py:5: FutureWarning: Series.__getitem__ treating keys as positions is deprecated. In a future version, integer keys will always be treated as labels (consistent with DataFrame behavior). To access a value by position, use `ser.iloc[pos]`\n",
      "  stock_Sharpes[i] = (average_Data[i] - rf_Rate) / standard_Dev[i]\n"
     ]
    }
   ],
   "source": [
    "#Sharpe Ratios for individual stocks and the portfolio\n",
    "\n",
    "stock_Sharpes = [None] * size\n",
    "for i in range(size):\n",
    "    stock_Sharpes[i] = (average_Data[i] - rf_Rate) / standard_Dev[i]\n",
    "    print(f\" The Sharpe Ratio for {portfolio[i]}: {stock_Sharpes[i]}\") #Indiv Sharpes\n",
    "\n",
    "\n"
   ]
  },
  {
   "cell_type": "code",
   "execution_count": 11,
   "id": "5244a9e0-c168-4c92-aed8-b4c467cc10ac",
   "metadata": {},
   "outputs": [
    {
     "name": "stdout",
     "output_type": "stream",
     "text": [
      "The Sharpe Ratio of the portfolio: 0.3636566491933173\n"
     ]
    }
   ],
   "source": [
    "#Sharpe Ratio of Portfolio\n",
    "port_Sharpe = portfolio_RP / portfolio_variance ** 0.5\n",
    "print(f\"The Sharpe Ratio of the portfolio: {port_Sharpe}\")"
   ]
  }
 ],
 "metadata": {
  "kernelspec": {
   "display_name": "Python 3 (ipykernel)",
   "language": "python",
   "name": "python3"
  },
  "language_info": {
   "codemirror_mode": {
    "name": "ipython",
    "version": 3
   },
   "file_extension": ".py",
   "mimetype": "text/x-python",
   "name": "python",
   "nbconvert_exporter": "python",
   "pygments_lexer": "ipython3",
   "version": "3.11.7"
  }
 },
 "nbformat": 4,
 "nbformat_minor": 5
}
