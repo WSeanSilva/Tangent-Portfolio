{
 "cells": [
  {
   "cell_type": "code",
   "execution_count": 10,
   "id": "8e49e9d7-1843-4217-867d-cb18e66afd2b",
   "metadata": {
    "tags": []
   },
   "outputs": [],
   "source": [
    "#Lesson 9: Real-World Application : Performance of main asset classes\n",
    "import yfinance as yf\n",
    "import pandas as pd\n",
    "import numpy as np\n",
    "import math as ma"
   ]
  },
  {
   "cell_type": "code",
   "execution_count": 11,
   "id": "4b5c1702-8653-42f8-8563-287eb30436f1",
   "metadata": {
    "tags": []
   },
   "outputs": [
    {
     "name": "stdin",
     "output_type": "stream",
     "text": [
      "Do you want to input the risk-free rate manually? (Yes/No):  No\n"
     ]
    },
    {
     "name": "stdout",
     "output_type": "stream",
     "text": [
      "The FF3F monthly risk free rate is:   0.002681164383561644\n"
     ]
    }
   ],
   "source": [
    "#This section concerns how the monthly risk-free rate is derived\n",
    "import pandas_datareader as pdr\n",
    "\n",
    "ff3f = pdr.DataReader('F-F_Research_Data_Factors', 'famafrench', '1926-12-31', '2024-12-31')[0]/100\n",
    "\n",
    "\n",
    "while True:\n",
    "    # Prompt the user and immediately handle the response\n",
    "    rf_Prompt = input(\"Do you want to input the risk-free rate manually? (Yes/No): \").strip().lower()\n",
    "\n",
    "    if rf_Prompt == \"yes\":\n",
    "        rf_Rate = float(input(\"Input the given risk-free rate here: \"))  # ensure input is converted to float for calculations\n",
    "        print(\"Risk Free Rate is: \", rf_Rate)\n",
    "        break\n",
    "    elif rf_Prompt == \"no\":\n",
    "        rf_Rate = ff3f['RF'].mean()  # Assuming ff3f['RF'] is already loaded and contains the relevant data\n",
    "        print(\"The FF3F monthly risk free rate is:  \", rf_Rate)\n",
    "        break\n",
    "    else:\n",
    "        print(\"Not a valid input! Please say 'Yes' or 'No'.\")\n"
   ]
  },
  {
   "cell_type": "code",
   "execution_count": 23,
   "id": "602d4b3e-1dd3-4dd4-9d35-77b420a74124",
   "metadata": {},
   "outputs": [
    {
     "name": "stdin",
     "output_type": "stream",
     "text": [
      "Enter how many stocks will be in your portfolio here:  4\n",
      "Enter the ticker for stock number 1 here:  MSFT\n",
      "Enter the ticker for stock number 2 here:  KO\n",
      "Enter the ticker for stock number 3 here:  TSLA\n",
      "Enter the ticker for stock number 4 here:  AMZN\n"
     ]
    },
    {
     "name": "stdout",
     "output_type": "stream",
     "text": [
      "Portfolio:  ['MSFT', 'KO', 'TSLA', 'AMZN']\n"
     ]
    },
    {
     "ename": "KeyboardInterrupt",
     "evalue": "Interrupted by user",
     "output_type": "error",
     "traceback": [
      "\u001b[1;31m---------------------------------------------------------------------------\u001b[0m",
      "\u001b[1;31mKeyboardInterrupt\u001b[0m                         Traceback (most recent call last)",
      "Cell \u001b[1;32mIn[23], line 10\u001b[0m\n\u001b[0;32m      6\u001b[0m     portfolio[i] \u001b[38;5;241m=\u001b[39m \u001b[38;5;28minput\u001b[39m(\u001b[38;5;124mf\u001b[39m\u001b[38;5;124m\"\u001b[39m\u001b[38;5;124mEnter the ticker for stock number \u001b[39m\u001b[38;5;132;01m{\u001b[39;00mi\u001b[38;5;241m+\u001b[39m\u001b[38;5;241m1\u001b[39m\u001b[38;5;132;01m}\u001b[39;00m\u001b[38;5;124m here: \u001b[39m\u001b[38;5;124m\"\u001b[39m)\n\u001b[0;32m      8\u001b[0m \u001b[38;5;28mprint\u001b[39m(\u001b[38;5;124m\"\u001b[39m\u001b[38;5;124mPortfolio: \u001b[39m\u001b[38;5;124m\"\u001b[39m, portfolio)\n\u001b[1;32m---> 10\u001b[0m start \u001b[38;5;241m=\u001b[39m \u001b[38;5;28minput\u001b[39m(\u001b[38;5;124m\"\u001b[39m\u001b[38;5;124mStart data: \u001b[39m\u001b[38;5;124m\"\u001b[39m) \u001b[38;5;66;03m#Start Date For yfinance data pull\u001b[39;00m\n\u001b[0;32m     11\u001b[0m end \u001b[38;5;241m=\u001b[39m \u001b[38;5;28minput\u001b[39m(\u001b[38;5;124m\"\u001b[39m\u001b[38;5;124mEnd date (Best to always get an extra months data for more accurate results: \u001b[39m\u001b[38;5;124m\"\u001b[39m) \u001b[38;5;66;03m#End data for yfinance data pull\u001b[39;00m\n\u001b[0;32m     13\u001b[0m m_data \u001b[38;5;241m=\u001b[39m yf\u001b[38;5;241m.\u001b[39mdownload(portfolio, start \u001b[38;5;241m=\u001b[39m start, end \u001b[38;5;241m=\u001b[39m end, interval \u001b[38;5;241m=\u001b[39m \u001b[38;5;124m'\u001b[39m\u001b[38;5;124m1mo\u001b[39m\u001b[38;5;124m'\u001b[39m)[\u001b[38;5;124m'\u001b[39m\u001b[38;5;124mAdj Close\u001b[39m\u001b[38;5;124m'\u001b[39m]\u001b[38;5;241m.\u001b[39mdropna()\n",
      "File \u001b[1;32mC:\\ProgramData\\anaconda3\\Lib\\site-packages\\ipykernel\\kernelbase.py:1202\u001b[0m, in \u001b[0;36mKernel.raw_input\u001b[1;34m(self, prompt)\u001b[0m\n\u001b[0;32m   1200\u001b[0m     msg \u001b[38;5;241m=\u001b[39m \u001b[38;5;124m\"\u001b[39m\u001b[38;5;124mraw_input was called, but this frontend does not support input requests.\u001b[39m\u001b[38;5;124m\"\u001b[39m\n\u001b[0;32m   1201\u001b[0m     \u001b[38;5;28;01mraise\u001b[39;00m StdinNotImplementedError(msg)\n\u001b[1;32m-> 1202\u001b[0m \u001b[38;5;28;01mreturn\u001b[39;00m \u001b[38;5;28mself\u001b[39m\u001b[38;5;241m.\u001b[39m_input_request(\n\u001b[0;32m   1203\u001b[0m     \u001b[38;5;28mstr\u001b[39m(prompt),\n\u001b[0;32m   1204\u001b[0m     \u001b[38;5;28mself\u001b[39m\u001b[38;5;241m.\u001b[39m_parent_ident[\u001b[38;5;124m\"\u001b[39m\u001b[38;5;124mshell\u001b[39m\u001b[38;5;124m\"\u001b[39m],\n\u001b[0;32m   1205\u001b[0m     \u001b[38;5;28mself\u001b[39m\u001b[38;5;241m.\u001b[39mget_parent(\u001b[38;5;124m\"\u001b[39m\u001b[38;5;124mshell\u001b[39m\u001b[38;5;124m\"\u001b[39m),\n\u001b[0;32m   1206\u001b[0m     password\u001b[38;5;241m=\u001b[39m\u001b[38;5;28;01mFalse\u001b[39;00m,\n\u001b[0;32m   1207\u001b[0m )\n",
      "File \u001b[1;32mC:\\ProgramData\\anaconda3\\Lib\\site-packages\\ipykernel\\kernelbase.py:1245\u001b[0m, in \u001b[0;36mKernel._input_request\u001b[1;34m(self, prompt, ident, parent, password)\u001b[0m\n\u001b[0;32m   1242\u001b[0m \u001b[38;5;28;01mexcept\u001b[39;00m \u001b[38;5;167;01mKeyboardInterrupt\u001b[39;00m:\n\u001b[0;32m   1243\u001b[0m     \u001b[38;5;66;03m# re-raise KeyboardInterrupt, to truncate traceback\u001b[39;00m\n\u001b[0;32m   1244\u001b[0m     msg \u001b[38;5;241m=\u001b[39m \u001b[38;5;124m\"\u001b[39m\u001b[38;5;124mInterrupted by user\u001b[39m\u001b[38;5;124m\"\u001b[39m\n\u001b[1;32m-> 1245\u001b[0m     \u001b[38;5;28;01mraise\u001b[39;00m \u001b[38;5;167;01mKeyboardInterrupt\u001b[39;00m(msg) \u001b[38;5;28;01mfrom\u001b[39;00m \u001b[38;5;28;01mNone\u001b[39;00m\n\u001b[0;32m   1246\u001b[0m \u001b[38;5;28;01mexcept\u001b[39;00m \u001b[38;5;167;01mException\u001b[39;00m:\n\u001b[0;32m   1247\u001b[0m     \u001b[38;5;28mself\u001b[39m\u001b[38;5;241m.\u001b[39mlog\u001b[38;5;241m.\u001b[39mwarning(\u001b[38;5;124m\"\u001b[39m\u001b[38;5;124mInvalid Message:\u001b[39m\u001b[38;5;124m\"\u001b[39m, exc_info\u001b[38;5;241m=\u001b[39m\u001b[38;5;28;01mTrue\u001b[39;00m)\n",
      "\u001b[1;31mKeyboardInterrupt\u001b[0m: Interrupted by user"
     ]
    }
   ],
   "source": [
    "\n",
    "size = int(input(\"Enter how many stocks will be in your portfolio here: \"))\n",
    "\n",
    "portfolio = [None] * size\n",
    "\n",
    "for i in range(size):\n",
    "    portfolio[i] = input(f\"Enter the ticker for stock number {i+1} here: \")\n",
    "    \n",
    "print(\"Portfolio: \", portfolio)\n",
    "\n",
    "start = input(\"Start data: \") #Start Date For yfinance data pull\n",
    "end = input(\"End date (Best to always get an extra months data for more accurate results: \") #End data for yfinance data pull\n",
    "\n",
    "m_data = yf.download(portfolio, start = start, end = end, interval = '1mo')['Adj Close'].dropna()\n",
    "\n",
    "\n",
    "\n",
    "m_data = m_data[portfolio]\n",
    "\n",
    "m_data = m_data.pct_change().dropna()\n",
    "\n",
    "\n",
    "\n",
    "m_data.head(5)\n",
    "\n",
    "#Estimated Returns, Standard Deviations, Risk Premium\n",
    "\n",
    "average_Data = m_data.mean()\n",
    "\n",
    "standard_Dev = m_data.std() #Gets standard deviation from return data\n",
    "\n",
    "risk_Premia = average_Data - rf_Rate\n",
    "\n",
    "\n"
   ]
  },
  {
   "cell_type": "code",
   "execution_count": 13,
   "id": "4dc5a1e9-b72f-4178-b028-b356e4e7483b",
   "metadata": {
    "tags": []
   },
   "outputs": [
    {
     "name": "stdout",
     "output_type": "stream",
     "text": [
      "Covariance Matrix: \n",
      " Ticker      TSLA      MSFT      AMZN\n",
      "Ticker                              \n",
      "TSLA    0.034340  0.002246  0.002882\n",
      "MSFT    0.002246  0.003474  0.002092\n",
      "AMZN    0.002882  0.002092  0.006745\n"
     ]
    }
   ],
   "source": [
    "#Sigma Covariance Matrix and its inverse\n",
    "\n",
    "df = pd.DataFrame(m_data) #Takes stocks returns and converts it into a df datafield\n",
    "\n",
    "cov_matrix = df.cov() #Calculates the covar matrix\n",
    "\n",
    "inverse = np.linalg.inv(cov_matrix)\n",
    "\n",
    "print(f\"Covariance Matrix: \\n\", cov_matrix)"
   ]
  },
  {
   "cell_type": "code",
   "execution_count": 14,
   "id": "bc5cec61-cc4d-4829-8266-2b6c4dd4e641",
   "metadata": {
    "tags": []
   },
   "outputs": [
    {
     "name": "stdout",
     "output_type": "stream",
     "text": [
      "The W-Tan for TSLA is 17.15%\n",
      "The W-Tan for MSFT is 43.34%\n",
      "The W-Tan for AMZN is 39.51%\n"
     ]
    }
   ],
   "source": [
    "#W_Tangeant Weights\n",
    "numerator = np.dot(inverse, risk_Premia) #Numerator for w_tangent\n",
    "\n",
    "denominator = np.dot(np.ones(len(risk_Premia)), numerator)\n",
    "\n",
    "w_tangent = (numerator / denominator) * 100\n",
    "\n",
    "for i in range(size):\n",
    "    print(f\"The W-Tan for {portfolio[i]} is {w_tangent[i].round(2)}%\")"
   ]
  },
  {
   "cell_type": "code",
   "execution_count": 15,
   "id": "3b698093-7f9a-49fe-a925-716f67acc7c2",
   "metadata": {
    "tags": []
   },
   "outputs": [
    {
     "name": "stdout",
     "output_type": "stream",
     "text": [
      "The variance of the portfolio is: 0.0041564\n"
     ]
    }
   ],
   "source": [
    "#Finding Risk Premium and Variance of Portfolio\n",
    "w_tangent = w_tangent / 100\n",
    "\n",
    "risk_Premia = np.array(risk_Premia)\n",
    "\n",
    "#Portfolio Risk Premium\n",
    "portfolio_RP = (risk_Premia @ w_tangent)\n",
    "\n",
    "\n",
    "#Variance of Portfolio\n",
    "portfolio_variance = np.dot(w_tangent.T, np.dot(cov_matrix.values, w_tangent))\n",
    "print(f\"The variance of the portfolio is: {portfolio_variance.round(7)}\")"
   ]
  },
  {
   "cell_type": "code",
   "execution_count": 16,
   "id": "7b063707-0f2d-450c-a3a2-0453199f40e6",
   "metadata": {
    "tags": []
   },
   "outputs": [
    {
     "name": "stdin",
     "output_type": "stream",
     "text": [
      "Input the risk-aversion coefficient here:  5\n"
     ]
    },
    {
     "name": "stdout",
     "output_type": "stream",
     "text": [
      "The weighted optimal capital allocation is: 1.3498802598619308\n"
     ]
    }
   ],
   "source": [
    "risk_Aversion = input(\"Input the risk-aversion coefficient here: \")\n",
    "risk_Aversion = int(risk_Aversion)\n",
    "\n",
    "w_OCA = portfolio_RP/ (portfolio_variance * risk_Aversion)\n",
    "\n",
    "print(f\"The weighted optimal capital allocation is: {w_OCA}\")"
   ]
  },
  {
   "cell_type": "code",
   "execution_count": 17,
   "id": "aeb32d6a-b41a-4969-ad0f-bdd92b5a4145",
   "metadata": {},
   "outputs": [
    {
     "name": "stdout",
     "output_type": "stream",
     "text": [
      " w_OCA tangent weight for TSLA is 23.1%\n",
      " w_OCA tangent weight for MSFT is 58.5%\n",
      " w_OCA tangent weight for AMZN is 53.300000000000004%\n",
      "\n",
      "The risk free rate allocation: -34.988%\n"
     ]
    }
   ],
   "source": [
    "#W_oca Tangent Weights\n",
    "w_tan_weights = [None] * size\n",
    "rf_Alloc = (1 - w_OCA) * 100\n",
    "\n",
    "for i in range(size):\n",
    "    w_tan_weights[i] = w_OCA * w_tangent[i]\n",
    "    w_tan_weights[i] = w_tan_weights[i].round(3)\n",
    "    print(f\" w_OCA tangent weight for {portfolio[i]} is {w_tan_weights[i]*100}%\")\n",
    "    \n",
    "    \n",
    "print(f\"\\nThe risk free rate allocation: {rf_Alloc.round(3)}%\") #Rf-Rate Allocated (How much will we borrow)"
   ]
  },
  {
   "cell_type": "code",
   "execution_count": 21,
   "id": "ad402162-b824-4ce7-aa45-97d63310254c",
   "metadata": {
    "tags": []
   },
   "outputs": [
    {
     "name": "stdout",
     "output_type": "stream",
     "text": [
      " The Sharpe Ratio for TSLA: 0.2914132754024235\n",
      " The Sharpe Ratio for MSFT: 0.3112012905953403\n",
      " The Sharpe Ratio for AMZN: 0.3341637188118797\n"
     ]
    }
   ],
   "source": [
    "#Sharpe Ratios for individual stocks and the portfolio\n",
    "\n",
    "stock_Sharpes = [None] * size\n",
    "for i in range(size):\n",
    "    stock_Sharpes[i] = (average_Data[i] - rf_Rate) / standard_Dev[i]\n",
    "    print(f\" The Sharpe Ratio for {portfolio[i]}: {stock_Sharpes[i]}\") #Indiv Sharpes\n",
    "\n",
    "\n"
   ]
  },
  {
   "cell_type": "code",
   "execution_count": null,
   "id": "5244a9e0-c168-4c92-aed8-b4c467cc10ac",
   "metadata": {},
   "outputs": [],
   "source": []
  },
  {
   "cell_type": "code",
   "execution_count": null,
   "id": "008e7565-b240-49cd-8610-b7bfa02354ac",
   "metadata": {},
   "outputs": [],
   "source": []
  }
 ],
 "metadata": {
  "kernelspec": {
   "display_name": "Python 3 (ipykernel)",
   "language": "python",
   "name": "python3"
  },
  "language_info": {
   "codemirror_mode": {
    "name": "ipython",
    "version": 3
   },
   "file_extension": ".py",
   "mimetype": "text/x-python",
   "name": "python",
   "nbconvert_exporter": "python",
   "pygments_lexer": "ipython3",
   "version": "3.11.5"
  }
 },
 "nbformat": 4,
 "nbformat_minor": 5
}
